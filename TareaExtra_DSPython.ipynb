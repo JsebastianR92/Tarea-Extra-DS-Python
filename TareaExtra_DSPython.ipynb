{
 "cells": [
  {
   "cell_type": "markdown",
   "metadata": {},
   "source": [
    "## Sebastián Rodríguez, 20003076\n",
    "## 3/04/2020\n",
    "\n",
    "# Tarea Pts Extra\n"
   ]
  },
  {
   "cell_type": "code",
   "execution_count": 1,
   "metadata": {},
   "outputs": [],
   "source": [
    "import numpy as np\n",
    "import matplotlib.pyplot as plt"
   ]
  },
  {
   "cell_type": "markdown",
   "metadata": {},
   "source": [
    "1. **Ejercicio aplicado en DS**\n",
    "Se tiene una red neuronal sencilla(y simplificada) como la de la siguiente imagen:\n",
    "<img src=\"https://www.oreilly.com/library/view/practical-convolutional-neural/9781788392303/assets/246151fb-7893-448d-b9bb-7a87b387a24b.png\">\n",
    "\n",
    "Donde:\n",
    "* INPUT LAYER: un vector X de tamaño = 2 que representa los datos de entrada\n",
    "* HIDDEN_LAYER :capa oculta con 2 neuronas definidas por los vectores:\n",
    "    * HL1 = [0.25,0.37]\n",
    "    * HL2 = [-8,14]\n",
    "* OUTPUT_LAYER = capa de salida definida por el vector [4,9]\n",
    "\n",
    "Crear una funcion neural_network(X) para calcular:\n",
    "* Calcule la salida de cada neurona en la capa intermedia aplicada a la capa de entrada.\n",
    "* Use el resultado del paso anterior como entrada para la neurona en la capa de salida\n",
    "\n"
   ]
  },
  {
   "cell_type": "code",
   "execution_count": 34,
   "metadata": {},
   "outputs": [
    {
     "name": "stdout",
     "output_type": "stream",
     "text": [
      "X:  [-4 12] Función:  1813.76\n",
      "X:  [0.15831327 0.44399321] Función:  45.36001158804921\n",
      "X:  [0.34301518 0.30822789] Función:  14.938813311538203\n",
      "X:  [0.84954897 0.81970683] Función:  44.17824959450387\n",
      "X:  [0.77600966 0.23870088] Función:  -24.667097804926943\n"
     ]
    }
   ],
   "source": [
    "x0 = np.array([-4,12])\n",
    "x1 = np.random.rand(x0.shape[0])\n",
    "x2 = np.random.rand(x0.shape[0])\n",
    "x3 = np.random.rand(x0.shape[0])\n",
    "\n",
    "HL1 = np.array ([0.25,0.37])\n",
    "HL2 = np.array ([-8,14])\n",
    "OUTPUT_LAYER = np.array([4,9])\n",
    "\n",
    "#h1 = HL1\n",
    "#h2 = HL2\n",
    "#ol0 = OL\n",
    "\n",
    "def neural_network(X, h1 = HL1, h2= HL2, OUTPUT_LAYER = ol0):\n",
    "    n = np.inner(X,h1)\n",
    "    n1 = np.inner(X,h2)\n",
    "    salida = np.inner(np.array([n,n1]),ol0)\n",
    "    \n",
    "    return salida\n",
    "\n",
    "\n",
    "X = [x0,x1,x2,x3,x4]\n",
    "\n",
    "for elem in X:\n",
    "    print(\"X: \", elem, \"Función: \", neural_network(elem))\n",
    "    "
   ]
  },
  {
   "cell_type": "markdown",
   "metadata": {},
   "source": [
    "2. Implementar en una funcion neural_network(X) la red neuronal definida por la siguiente arquitectura:\n",
    "\n",
    "<img src=\"http://i.imgur.com/UNlffE1.png\">\n",
    "\n",
    "Podemos validar si fue correctamente implementada si usamos como entrada el vector x=[1,1] . Debemos obtener el resultado mostrado en la imagen.\n",
    "\n",
    "Una vez tenemos la implementacion correcta, cambiar la funcion de activacion de la capa de salida por la funcion de activacion ReLu(https://en.wikipedia.org/wiki/Rectifier_(neural_networks)):\n",
    "\n",
    "<img src=\"https://cdn-images-1.medium.com/max/1600/1*DfMRHwxY1gyyDmrIAd-gjQ.png\">\n",
    "\n",
    "Luego evaluar la red neuronal sobre la matriz de datos X(de manera vectorizada):"
   ]
  },
  {
   "cell_type": "code",
   "execution_count": 64,
   "metadata": {},
   "outputs": [
    {
     "name": "stdout",
     "output_type": "stream",
     "text": [
      "X:  1 Función:  [0.99996053 0.99999922]\n",
      "X:  1 Función:  [0.99996053 0.99999922]\n"
     ]
    }
   ],
   "source": [
    "HL1 = np.array ([0.69,0.82])\n",
    "HL2 = np.array ([0.77,1.22])\n",
    "HL3 = np.array ([0.68,0.74])\n",
    "out = np.array([0.69,0.81])\n",
    "\n",
    "#h1 = HL1\n",
    "#h2 = HL2\n",
    "#ol0 = OL\n",
    "\n",
    "def neural_network(X, h1 = HL1, h2= HL2,h3=HL3, out = ol0):\n",
    "    n = np.inner(X,h1)\n",
    "    n1 = np.inner(X,h2)\n",
    "    n2 = np.inner(X,h3)\n",
    "    salida = np.inner(np.array([n,n1]),ol0)\n",
    "    # salida = X*h1 + X*h2 + X*h2 +out\n",
    "    return sigma(salida)\n",
    "    #return salida\n",
    "\n",
    "def sigma(X):\n",
    "    return 1/(1+np.exp(-X))\n",
    "\n",
    "X = np.array([1,1])\n",
    "\n",
    "for elem in X:\n",
    "    print(\"X: \", elem, \"Función: \", neural_network(elem))"
   ]
  },
  {
   "cell_type": "markdown",
   "metadata": {},
   "source": [
    "3. Luego evaluar la red neuronal sobre la matriz de datos X(de manera vectorizada):"
   ]
  },
  {
   "cell_type": "code",
   "execution_count": 40,
   "metadata": {},
   "outputs": [
    {
     "name": "stdout",
     "output_type": "stream",
     "text": [
      "Evaluación de X= [0.1 2. ] es f(X)= 247.85999999999999\n",
      "Evaluación de X= [0.3  0.45] es f(X)= 36.066\n",
      "Evaluación de X= [5. 9.] es f(X)= 792.32\n",
      "Evaluación de X= [12.  6.] es f(X)= -87.12\n",
      "Evaluación de X= [7. 5.] es f(X)= 140.4\n",
      "Evaluación de X= [0.3 0.8] es f(X)= 80.684\n",
      "Evaluación de X= [12.  5.] es f(X)= -214.6\n",
      "Evaluación de X= [100. 200.] es f(X)= 18396.0\n",
      "Evaluación de X= [7. 8.] es f(X)= 522.84\n",
      "Evaluación de X= [ 300. 1500.] es f(X)= 169920.0\n"
     ]
    }
   ],
   "source": [
    "X = np.array([\n",
    "    [0.1,2],\n",
    "    [0.3,0.45],\n",
    "    [5,9],\n",
    "    [12,6],\n",
    "    [7,5],\n",
    "    [0.3,0.8],\n",
    "    [12,5],\n",
    "    [100,200],\n",
    "    [7,8],\n",
    "    [300,1500]])\n",
    "\n",
    "for elem in X: \n",
    "    print(\"Evaluación de X=\", elem, \"es f(X)=\", neural_network(elem))"
   ]
  },
  {
   "cell_type": "code",
   "execution_count": null,
   "metadata": {},
   "outputs": [],
   "source": []
  }
 ],
 "metadata": {
  "kernelspec": {
   "display_name": "Python 3",
   "language": "python",
   "name": "python3"
  },
  "language_info": {
   "codemirror_mode": {
    "name": "ipython",
    "version": 3
   },
   "file_extension": ".py",
   "mimetype": "text/x-python",
   "name": "python",
   "nbconvert_exporter": "python",
   "pygments_lexer": "ipython3",
   "version": "3.7.4"
  }
 },
 "nbformat": 4,
 "nbformat_minor": 2
}
